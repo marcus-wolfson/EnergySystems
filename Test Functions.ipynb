{
 "cells": [
  {
   "cell_type": "code",
   "execution_count": 11,
   "id": "ca98016b-1709-4355-97f4-491342d5c1f2",
   "metadata": {},
   "outputs": [],
   "source": [
    "import battery_charging_example as bce"
   ]
  },
  {
   "cell_type": "code",
   "execution_count": 22,
   "id": "b05c68b9-a188-41d0-925f-d43fc2e29e1f",
   "metadata": {},
   "outputs": [
    {
     "name": "stdout",
     "output_type": "stream",
     "text": [
      "The state of charge of the battery is: 1 kWh\n",
      "The remaining power demand on the grid is: 0 kW\n"
     ]
    }
   ],
   "source": [
    "'Define variables and units'\n",
    "\n",
    "soc = 1 # state of charge of the battery [energy, kWh]\n",
    "power = 1 # power demand [power, kW]\n",
    "E_tot = 1 # energy capacity of the battery [energy, kWh]\n",
    "P_max = 1 # max power capacity of the battery [power, kW]\n",
    "T = 1 # length of time of a single period [default 1hr]\n",
    "\n",
    "\n",
    "soc, net_power = bce.battery_charge_action(soc, power, E_tot, P_max, T)\n",
    "\n",
    "print('The state of charge of the battery is:',soc,'kWh')\n",
    "print('The remaining power demand on the grid is:',net_power,'kW')"
   ]
  },
  {
   "cell_type": "code",
   "execution_count": null,
   "id": "6f9100e7-9baa-43ca-bc0e-bf4ba4169495",
   "metadata": {},
   "outputs": [],
   "source": []
  }
 ],
 "metadata": {
  "kernelspec": {
   "display_name": "Python 3 (ipykernel)",
   "language": "python",
   "name": "python3"
  },
  "language_info": {
   "codemirror_mode": {
    "name": "ipython",
    "version": 3
   },
   "file_extension": ".py",
   "mimetype": "text/x-python",
   "name": "python",
   "nbconvert_exporter": "python",
   "pygments_lexer": "ipython3",
   "version": "3.12.4"
  }
 },
 "nbformat": 4,
 "nbformat_minor": 5
}
